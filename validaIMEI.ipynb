{
 "cells": [
  {
   "cell_type": "markdown",
   "metadata": {},
   "source": [
    "## ALGORITMO DE LUHN"
   ]
  },
  {
   "cell_type": "code",
   "execution_count": 46,
   "metadata": {},
   "outputs": [],
   "source": [
    "number = \"4003600000000014\"\n",
    "\n",
    "def alg_luhn(number):\n",
    "    t_num = len(number)\n",
    "\n",
    "    frst_step = sum(int(i) for i in number[-1::-2])\n",
    "\n",
    "    scnd_step = 0\n",
    "    for i in number[-2::-2]:\n",
    "        mult = int(i)*2\n",
    "        if (mult) >= 10:\n",
    "            scnd_step += sum(int(i) for i in str(mult))\n",
    "        else: scnd_step += mult\n",
    "\n",
    "    thrd_step = frst_step + scnd_step\n",
    "    four_step = True if str(thrd_step)[-1] == '0' else False\n",
    "    return four_step\n"
   ]
  },
  {
   "cell_type": "code",
   "execution_count": 54,
   "metadata": {},
   "outputs": [
    {
     "data": {
      "text/plain": [
       "8691720562808"
      ]
     },
     "execution_count": 54,
     "metadata": {},
     "output_type": "execute_result"
    }
   ],
   "source": [
    "meu_imei = '869172056280844'\n",
    "imei_14 = meu_imei[:-1]\n",
    "int(int(imei_14)/10)"
   ]
  },
  {
   "cell_type": "code",
   "execution_count": 71,
   "metadata": {},
   "outputs": [
    {
     "name": "stdout",
     "output_type": "stream",
     "text": [
      "Valid IMEI Code\n"
     ]
    }
   ],
   "source": [
    "def sumDig( n ):\n",
    "    a = 0\n",
    "    while n > 0:\n",
    "        a = a + n % 10\n",
    "        n = int(n / 10)\n",
    " \n",
    "    return a\n",
    " \n",
    "# Returns True if n is valid EMEI\n",
    "def isValidEMEI(n):\n",
    " \n",
    "    # Converting the number into\n",
    "    # String for finding length\n",
    "    s = str(n)\n",
    "    l = len(s)\n",
    " \n",
    "    # If length is not 15 then IMEI is Invalid\n",
    "    if l != 15:\n",
    "        return False\n",
    " \n",
    "    d = 0\n",
    "    sum = 0\n",
    "    for i in range(15, 0, -1):\n",
    "        d = (int)(n % 10)\n",
    "        if i % 2 == 0:\n",
    " \n",
    "            # Doubling every alternate digit\n",
    "            d = 2 * d\n",
    " \n",
    "        # Finding sum of the digits\n",
    "        sum = sum + sumDig(d)\n",
    "        n = n / 10\n",
    "    return (sum % 10 == 0)\n",
    " \n",
    "# Driver code\n",
    "n = 490154203237518\n",
    "if isValidEMEI(n):\n",
    "    print(\"Valid IMEI Code\")\n",
    "else:\n",
    "    print(\"Invalid IMEI Code\")"
   ]
  },
  {
   "cell_type": "code",
   "execution_count": null,
   "metadata": {},
   "outputs": [],
   "source": [
    "meu_imei = '869172056280844'\n",
    "imei_14 = meu_imei[:-1]"
   ]
  },
  {
   "cell_type": "code",
   "execution_count": 67,
   "metadata": {},
   "outputs": [
    {
     "data": {
      "text/plain": [
       "15"
      ]
     },
     "execution_count": 67,
     "metadata": {},
     "output_type": "execute_result"
    }
   ],
   "source": [
    "len(\"490154203237518\")"
   ]
  },
  {
   "cell_type": "code",
   "execution_count": 47,
   "metadata": {},
   "outputs": [
    {
     "data": {
      "text/plain": [
       "False"
      ]
     },
     "execution_count": 47,
     "metadata": {},
     "output_type": "execute_result"
    }
   ],
   "source": [
    "def verifica_imei(number):\n",
    "    t_num = len(number)\n",
    "\n",
    "    frst_step = sum(int(i) for i in number[-1::-2])\n",
    "\n",
    "    scnd_step = 0\n",
    "    for i in number[-2::-2]:\n",
    "        mult = int(i)*2\n",
    "        if (mult) >= 10:\n",
    "            scnd_step += sum(int(i) for i in str(mult))\n",
    "        else: scnd_step += mult"
   ]
  },
  {
   "cell_type": "markdown",
   "metadata": {},
   "source": [
    "## Definitivo:"
   ]
  },
  {
   "cell_type": "code",
   "execution_count": 131,
   "metadata": {},
   "outputs": [],
   "source": [
    "def veri_digito(number):\n",
    "    l_n = len(number)\n",
    "    soma = 0\n",
    "\n",
    "    for i in range(l_n):\n",
    "        if i&1:\n",
    "            mult = int(number[i])*2\n",
    "            if mult >= 10:\n",
    "                soma += sum(int(j) for j in str(mult))\n",
    "            else: soma += mult\n",
    "        else:\n",
    "            soma += int(number[i])\n",
    "            \n",
    "    c = 0\n",
    "    while soma % 10 != 0:\n",
    "        # print(soma)\n",
    "        soma += 1\n",
    "        c += 1\n",
    "    return c"
   ]
  },
  {
   "cell_type": "code",
   "execution_count": 132,
   "metadata": {},
   "outputs": [
    {
     "name": "stdout",
     "output_type": "stream",
     "text": [
      "35414810381092 4\n"
     ]
    }
   ],
   "source": [
    "imei_2 = \"35414810381092\"\n",
    "result2 = veri_digito(imei_2)\n",
    "print(f\"{imei_2} {result2}\")\n"
   ]
  }
 ],
 "metadata": {
  "kernelspec": {
   "display_name": "Python 3.10.4 64-bit",
   "language": "python",
   "name": "python3"
  },
  "language_info": {
   "codemirror_mode": {
    "name": "ipython",
    "version": 3
   },
   "file_extension": ".py",
   "mimetype": "text/x-python",
   "name": "python",
   "nbconvert_exporter": "python",
   "pygments_lexer": "ipython3",
   "version": "3.10.4"
  },
  "orig_nbformat": 4,
  "vscode": {
   "interpreter": {
    "hash": "31f2aee4e71d21fbe5cf8b01ff0e069b9275f58929596ceb00d14d90e3e16cd6"
   }
  }
 },
 "nbformat": 4,
 "nbformat_minor": 2
}
